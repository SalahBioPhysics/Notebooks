{
 "cells": [
  {
   "cell_type": "markdown",
   "metadata": {},
   "source": [
    "# This program downloads pdb files from ftp://ftp.rcsb.org made by Yanjun Wang"
   ]
  },
  {
   "cell_type": "code",
   "execution_count": 8,
   "metadata": {},
   "outputs": [
    {
     "name": "stdout",
     "output_type": "stream",
     "text": [
      "Sorry, but you entered an invalid pdbID.\n"
     ]
    },
    {
     "ename": "SystemExit",
     "evalue": "0",
     "output_type": "error",
     "traceback": [
      "An exception has occurred, use %tb to see the full traceback.\n",
      "\u001b[0;31mSystemExit\u001b[0m\u001b[0;31m:\u001b[0m 0\n"
     ]
    },
    {
     "name": "stderr",
     "output_type": "stream",
     "text": [
      "/Users/salah_salah/anaconda3/lib/python3.6/site-packages/IPython/core/interactiveshell.py:2918: UserWarning: To exit: use 'exit', 'quit', or Ctrl-D.\n",
      "  warn(\"To exit: use 'exit', 'quit', or Ctrl-D.\", stacklevel=1)\n"
     ]
    }
   ],
   "source": [
    "import sys, os\n",
    "import urllib\n",
    "\n",
    "if __name__ == '__main__':\n",
    "\n",
    "   if len(sys.argv) < 2:\n",
    "      print ('getpdb pdbID [file]')\n",
    "      print ('This program gets a pdb file from ftp://ftp.rcsb.org.  ---Yanjun')\n",
    "      sys.exit(0)\n",
    "\n",
    "   if len(sys.argv[1]) < 4:\n",
    "      print ('Sorry, but you entered an invalid pdbID.')\n",
    "      sys.exit(0)\n",
    "\n",
    "   file = sys.argv[1]\n",
    "\n",
    "   f_dir = file[1:3].lower()     # the subdirectory of this pdb file\n",
    "   id = file[:4].lower()         # the pdb file name\n",
    "   id_ent = id + '.ent'\n",
    "   pdb_name = id + '.ent.gz'      # pdb file name\n",
    "\n",
    "   if len(sys.argv) == 3: \n",
    "      if os.path.exists(sys.argv[2]):\n",
    "         if sys.argv[2][-1] == '/':       # get rid of '//'\n",
    "            saved_pdb = sys.argv[2] + id.upper() + '.pdb'\n",
    "         else:\n",
    "            saved_pdb = sys.argv[2] + '/' + id.upper() + '.pdb'\n",
    "      else:\n",
    "         saved_pdb = sys.argv[2]\n",
    "   elif len(sys.argv) == 2:\n",
    "      saved_pdb = id.upper() + '.pdb'\n",
    "   remoteaddr = 'ftp://ftp.wwpdb.org/pub/pdb/data/structures/divided/pdb/' +\\\n",
    "\t\t f_dir + '/pdb' + pdb_name\n",
    "\n",
    "   print ('Inquiring the remote file', id.upper()+'.pdb ...')\n",
    "\n",
    "   try:\n",
    "      remotefile = urllib.urlopen(remoteaddr)\n",
    "   except IOError:\n",
    "      print ('This pdb entry does not exist, or the connection lost.')\n",
    "      sys.exit(0)\n",
    "\n",
    "   localfile = open(pdb_name, 'wb')\n",
    "   print ('Saving as', saved_pdb, '...')\n",
    "   localfile.write(remotefile.read())\n",
    "   localfile.close()\n",
    "   remotefile.close()\n",
    "\n",
    "   os.popen('gunzip ' + pdb_name)\n",
    "   os.popen('mv ' + id_ent + ' ' + saved_pdb)\n",
    "\n",
    "   print ('Download completed. ')\n"
   ]
  },
  {
   "cell_type": "code",
   "execution_count": null,
   "metadata": {},
   "outputs": [],
   "source": []
  },
  {
   "cell_type": "code",
   "execution_count": null,
   "metadata": {},
   "outputs": [],
   "source": []
  }
 ],
 "metadata": {
  "kernelspec": {
   "display_name": "Python 3",
   "language": "python",
   "name": "python3"
  },
  "language_info": {
   "codemirror_mode": {
    "name": "ipython",
    "version": 3
   },
   "file_extension": ".py",
   "mimetype": "text/x-python",
   "name": "python",
   "nbconvert_exporter": "python",
   "pygments_lexer": "ipython3",
   "version": "3.6.4"
  }
 },
 "nbformat": 4,
 "nbformat_minor": 2
}

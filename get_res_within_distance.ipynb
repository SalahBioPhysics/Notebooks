{
 "cells": [
  {
   "cell_type": "markdown",
   "metadata": {},
   "source": [
    "This notebook should get all the residues within a distance from a point P."
   ]
  },
  {
   "cell_type": "code",
   "execution_count": 59,
   "metadata": {},
   "outputs": [
    {
     "name": "stdout",
     "output_type": "stream",
     "text": [
      "Done\n"
     ]
    }
   ],
   "source": [
    "#!/usr/bin/python\n",
    "import sys\n",
    "import re\n",
    "import math\n",
    "import datetime\n",
    "import os\n",
    "import re\n",
    "\n",
    "P = [95.146, 146.184, 243.147] # This is the point at which the code will search for res from\n",
    "R = 10.0 # The radius of search \n",
    "\n",
    "filename = \"/Users/salah_salah/Dropbox/Salah_amedeeLab/ryr1/refinement_files/1.pdb\"\n",
    "\n",
    "pdb_lines = open(filename).readlines() \n",
    "new_file = '/Users/salah_salah/Dropbox/Salah_amedeeLab/ryr1/refinement_files/res_within_'+str(R)+'_A.pdb'\n",
    "with open(new_file,'w') as fp:\n",
    "    fp.write('REMARK: This file was greated by get_res_within_distance.py that shows all the atoms' + '\\n'+'within '+str(R)+'A from ' + str(P) + '\\n')\n",
    "    for line in pdb_lines:\n",
    "        fields = line.split()\n",
    "        if fields[0] == 'ATOM':\n",
    "            if len(fields) == 11:  # sometimes in the pdb we have col 4 and 5 in one col :(\n",
    "                x1 = math.pow(P[0] - float(fields[6]),2)\n",
    "                x2 = math.pow(P[1] - float(fields[7]),2)\n",
    "                x3 = math.pow(P[2] - float(fields[8]),2)    \n",
    "            if len(fields) == 10:\n",
    "                x1 = math.pow(P[0] - float(fields[5]),2)\n",
    "                x2 = math.pow(P[1] - float(fields[6]),2)\n",
    "                x3 = math.pow(P[2] - float(fields[7]),2)\n",
    "            d = math.sqrt(x1+x2+x3)\n",
    "            if d < R:\n",
    "                fp.write(line)\n",
    "    fp.close()\n",
    "print ('Done')\n",
    "        \n",
    "    \n",
    "\n"
   ]
  },
  {
   "cell_type": "code",
   "execution_count": null,
   "metadata": {},
   "outputs": [],
   "source": []
  },
  {
   "cell_type": "code",
   "execution_count": null,
   "metadata": {},
   "outputs": [],
   "source": []
  }
 ],
 "metadata": {
  "kernelspec": {
   "display_name": "Python 3",
   "language": "python",
   "name": "python3"
  },
  "language_info": {
   "codemirror_mode": {
    "name": "ipython",
    "version": 3
   },
   "file_extension": ".py",
   "mimetype": "text/x-python",
   "name": "python",
   "nbconvert_exporter": "python",
   "pygments_lexer": "ipython3",
   "version": "3.6.4"
  }
 },
 "nbformat": 4,
 "nbformat_minor": 2
}
